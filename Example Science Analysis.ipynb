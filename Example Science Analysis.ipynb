{
 "cells": [
  {
   "cell_type": "markdown",
   "metadata": {},
   "source": [
    "# The Local Group Galaxy Database: An Example of a Science Analysis"
   ]
  },
  {
   "cell_type": "code",
   "execution_count": null,
   "metadata": {},
   "outputs": [],
   "source": [
    "import numpy as np\n",
    "from astropy import units as u\n",
    "from astropy.coordinates import Distance\n",
    "from astropy import constants as cnst\n",
    "\n",
    "from matplotlib import pyplot as plt\n",
    "%matplotlib inline\n",
    "\n",
    "from astropy.visualization import quantity_support\n",
    "quantity_support()"
   ]
  },
  {
   "cell_type": "code",
   "execution_count": null,
   "metadata": {},
   "outputs": [],
   "source": [
    "import galcat"
   ]
  },
  {
   "cell_type": "code",
   "execution_count": null,
   "metadata": {},
   "outputs": [],
   "source": [
    "lgaldb = galcat.Database(directory='data/')\n",
    "lgals = lgaldb.query_table()\n",
    "lgals"
   ]
  },
  {
   "cell_type": "code",
   "execution_count": null,
   "metadata": {},
   "outputs": [],
   "source": [
    "ax = plt.axes(projection='hammer')\n",
    "\n",
    "msk = lgals['v_mag'] > 0 #bad data  \n",
    "sc = ax.scatter(lgals['coord'].ra.wrap_at(180*u.deg).rad[msk], lgals['coord'].dec.rad[msk], \n",
    "                c=lgals['v_mag'][msk])\n",
    "plt.colorbar(sc)"
   ]
  },
  {
   "cell_type": "markdown",
   "metadata": {},
   "source": [
    "As expected, we see the galaxies with a pile of relatively faint ones near M31, and a gap along the Galactic ZOA.  Now lets try making \"science plots\" a la McConnachie's paper:"
   ]
  },
  {
   "cell_type": "code",
   "execution_count": null,
   "metadata": {},
   "outputs": [],
   "source": [
    "# translate the distance modulus into a true \"distance\"\n",
    "lgals['distance'] = Distance(distmod=lgals['distance_modulus'])\n",
    "\n",
    "msk = ~lgals['radial_velocity'].mask\n",
    "\n",
    "plt.scatter(lgals['distance'][msk], lgals['radial_velocity'][msk])"
   ]
  },
  {
   "cell_type": "markdown",
   "metadata": {},
   "source": [
    "What are those odd outliers?  Lets have a look:"
   ]
  },
  {
   "cell_type": "code",
   "execution_count": null,
   "metadata": {},
   "outputs": [],
   "source": [
    "lgals[lgals['radial_velocity']>600]"
   ]
  },
  {
   "cell_type": "markdown",
   "metadata": {},
   "source": [
    "Arg!  Alternatively masked datasets.  Easy to fix, fortunately:"
   ]
  },
  {
   "cell_type": "code",
   "execution_count": null,
   "metadata": {},
   "outputs": [],
   "source": [
    "msk = (~lgals['radial_velocity'].mask)&(lgals['radial_velocity']<999.9)\n",
    "\n",
    "plt.scatter(lgals['distance'][msk], lgals['radial_velocity'][msk]*u.km/u.s, alpha=.8)\n",
    "plt.axvline(300*u.kpc, c='k', ls='--')\n",
    "plt.axvline(400*u.kpc, c='k', ls=':')\n",
    "plt.xlim(0, 3*u.Mpc)"
   ]
  },
  {
   "cell_type": "markdown",
   "metadata": {},
   "source": [
    "Or more physical scaling relations:"
   ]
  },
  {
   "cell_type": "code",
   "execution_count": null,
   "metadata": {},
   "outputs": [],
   "source": [
    "mstar.value"
   ]
  },
  {
   "cell_type": "code",
   "execution_count": null,
   "metadata": {},
   "outputs": [],
   "source": [
    "# make the wrong-but-not-horribly wrong assumption of galaxy mass-to-light ratios are 1:\n",
    "mass_to_light = 1*u.solMass/u.L_sun\n",
    "\n",
    "vabs = lgals['v_mag'] - lgals['distance'].distmod\n",
    "mstar = (vabs - 4.83*u.MagUnit(1/u.Lsun)).to(u.L_sun) * mass_to_light\n",
    "\n",
    "msk = lgals['stellar_radial_velocity_dispersion']!=0\n",
    "\n",
    "plt.scatter(np.log10(mstar[msk]/u.Msun), lgals['stellar_radial_velocity_dispersion'][msk])\n",
    "plt.xlabel(f'M* [{mstar.unit.to_string(\"latex\")}]')"
   ]
  },
  {
   "cell_type": "markdown",
   "metadata": {},
   "source": [
    "What's that upper outlier?"
   ]
  },
  {
   "cell_type": "code",
   "execution_count": null,
   "metadata": {},
   "outputs": [],
   "source": [
    "lgals[lgals['stellar_radial_velocity_dispersion']>80*u.km/u.s]"
   ]
  },
  {
   "cell_type": "markdown",
   "metadata": {},
   "source": [
    "Oh, that makes sense! It's M32, which is the only \"cE\" in the Local Group (it's unusually compact and dense)."
   ]
  },
  {
   "cell_type": "markdown",
   "metadata": {},
   "source": [
    "Maybe instead use a mass estimator like the Wolf et al. 2010 estimator:"
   ]
  },
  {
   "cell_type": "code",
   "execution_count": null,
   "metadata": {},
   "outputs": [],
   "source": [
    "rphys = (lgals['half-light_radius']*lgals['distance']).to(u.kpc, u.dimensionless_angles())\n",
    "lgals['Mwolf'] = ((3/2) * lgals['stellar_radial_velocity_dispersion']**2 * rphys/ cnst.G).to(u.solMass)"
   ]
  },
  {
   "cell_type": "code",
   "execution_count": null,
   "metadata": {},
   "outputs": [],
   "source": [
    "msk = np.isfinite(lgals['Mwolf'])&(lgals['Mwolf']>0)\n",
    "\n",
    "plt.scatter(mstar[msk], lgals['Mwolf'][msk])\n",
    "plt.loglog()\n",
    "plt.xlabel(f'M* [{mstar.unit.to_string(\"latex\")}]')\n",
    "plt.ylabel(fr'$M_{{\\rm wolf}}$ [{mstar.unit.to_string(\"latex\")}]')"
   ]
  },
  {
   "cell_type": "markdown",
   "metadata": {},
   "source": [
    "Or we can try the full 3d size-dyn mass-stellar mass scaling relation:"
   ]
  },
  {
   "cell_type": "code",
   "execution_count": null,
   "metadata": {},
   "outputs": [],
   "source": [
    "from mpl_toolkits import mplot3d\n",
    "from matplotlib import animation\n",
    "from IPython import display"
   ]
  },
  {
   "cell_type": "code",
   "execution_count": null,
   "metadata": {},
   "outputs": [],
   "source": []
  },
  {
   "cell_type": "code",
   "execution_count": null,
   "metadata": {},
   "outputs": [],
   "source": [
    "fig = plt.figure(figsize=(12, 12))\n",
    "ax = plt.axes(projection='3d')\n",
    "\n",
    "msk = np.isfinite(lgals['Mwolf'])&(lgals['Mwolf']>0)\n",
    "\n",
    "ax.scatter3D(np.log10(mstar[msk]/u.solMass), \n",
    "             np.log10(lgals['Mwolf'][msk]/u.solMass), \n",
    "             np.log10(rphys[msk]/u.pc))\n",
    "\n",
    "ax.set_xlabel(fr'$\\log(M_*/{u.solMass.to_string(\"latex_inline\")[1:-1]})$', fontsize=18)\n",
    "ax.set_ylabel(fr'$\\log(M_{{\\rm wolf}}/{u.solMass.to_string(\"latex_inline\")[1:-1]})$', fontsize=18)\n",
    "ax.set_zlabel(fr'$\\log(r_{{\\rm h}}/{u.solMass.to_string(\"latex_inline\")[1:-1]})$', fontsize=18)"
   ]
  },
  {
   "cell_type": "code",
   "execution_count": null,
   "metadata": {},
   "outputs": [],
   "source": [
    "def update_anim(frac):\n",
    "    ax.azim = frac*360\n",
    "              \n",
    "anim = animation.FuncAnimation(fig, update_anim, np.arange(240)/240, interval=1000/30)\n",
    "display.HTML(anim.to_html5_video())"
   ]
  },
  {
   "cell_type": "markdown",
   "metadata": {},
   "source": [
    "# Debug "
   ]
  },
  {
   "cell_type": "code",
   "execution_count": null,
   "metadata": {},
   "outputs": [],
   "source": [
    "from importlib import reload\n",
    "\n",
    "import galcat\n",
    "from galcat import core\n",
    "reload(core)\n",
    "reload(galcat)\n",
    "\n",
    "lgaldb = galcat.Database(directory='data/')\n",
    "lgals = lgaldb.query_table()"
   ]
  }
 ],
 "metadata": {
  "kernelspec": {
   "display_name": "Python 3",
   "language": "python",
   "name": "python3"
  },
  "language_info": {
   "codemirror_mode": {
    "name": "ipython",
    "version": 3
   },
   "file_extension": ".py",
   "mimetype": "text/x-python",
   "name": "python",
   "nbconvert_exporter": "python",
   "pygments_lexer": "ipython3",
   "version": "3.8.0"
  }
 },
 "nbformat": 4,
 "nbformat_minor": 2
}
